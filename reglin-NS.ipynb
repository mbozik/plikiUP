{
 "cells": [
  {
   "cell_type": "markdown",
   "metadata": {},
   "source": [
    "# Ćwiczenia 1 - Regresja liniowa"
   ]
  },
  {
   "cell_type": "code",
   "execution_count": null,
   "metadata": {
    "execution": {
     "iopub.execute_input": "2021-10-07T13:37:21.502478Z",
     "iopub.status.busy": "2021-10-07T13:37:21.502154Z",
     "iopub.status.idle": "2021-10-07T13:37:21.528577Z",
     "shell.execute_reply": "2021-10-07T13:37:21.52809Z",
     "shell.execute_reply.started": "2021-10-07T13:37:21.502399Z"
    }
   },
   "outputs": [],
   "source": [
    "a, b = 1, 2\n",
    "a+b"
   ]
  },
  {
   "cell_type": "markdown",
   "metadata": {},
   "source": [
    "### Import potrzebnych bibliotek"
   ]
  },
  {
   "cell_type": "code",
   "execution_count": null,
   "metadata": {
    "execution": {
     "iopub.execute_input": "2021-10-07T13:41:19.7953Z",
     "iopub.status.busy": "2021-10-07T13:41:19.794374Z",
     "iopub.status.idle": "2021-10-07T13:41:19.799826Z",
     "shell.execute_reply": "2021-10-07T13:41:19.798951Z",
     "shell.execute_reply.started": "2021-10-07T13:41:19.795251Z"
    }
   },
   "outputs": [],
   "source": [
    "import numpy as np\n",
    "import pandas as pd\n",
    "import matplotlib.pyplot as plt\n",
    "import seaborn as sns"
   ]
  },
  {
   "cell_type": "code",
   "execution_count": null,
   "metadata": {
    "execution": {
     "iopub.execute_input": "2021-10-07T13:41:40.182123Z",
     "iopub.status.busy": "2021-10-07T13:41:40.181539Z",
     "iopub.status.idle": "2021-10-07T13:41:40.185263Z",
     "shell.execute_reply": "2021-10-07T13:41:40.184783Z",
     "shell.execute_reply.started": "2021-10-07T13:41:40.182087Z"
    }
   },
   "outputs": [],
   "source": [
    "import warnings\n",
    "warnings.filterwarnings('ignore')"
   ]
  },
  {
   "cell_type": "markdown",
   "metadata": {},
   "source": [
    "# 1. Wczytanie i wstępna analiza danych"
   ]
  },
  {
   "cell_type": "code",
   "execution_count": null,
   "metadata": {
    "execution": {
     "iopub.execute_input": "2021-10-07T13:43:05.254247Z",
     "iopub.status.busy": "2021-10-07T13:43:05.253585Z",
     "iopub.status.idle": "2021-10-07T13:43:05.263767Z",
     "shell.execute_reply": "2021-10-07T13:43:05.263056Z",
     "shell.execute_reply.started": "2021-10-07T13:43:05.25421Z"
    }
   },
   "outputs": [],
   "source": [
    "cars = pd.read_csv('https://raw.githubusercontent.com/knecka/plikiUP/main/CarPrices.csv')"
   ]
  },
  {
   "cell_type": "code",
   "execution_count": null,
   "metadata": {
    "execution": {
     "iopub.execute_input": "2021-10-07T13:43:12.396838Z",
     "iopub.status.busy": "2021-10-07T13:43:12.396584Z",
     "iopub.status.idle": "2021-10-07T13:43:12.402166Z",
     "shell.execute_reply": "2021-10-07T13:43:12.40135Z",
     "shell.execute_reply.started": "2021-10-07T13:43:12.396812Z"
    }
   },
   "outputs": [],
   "source": [
    "type(cars)"
   ]
  },
  {
   "cell_type": "code",
   "execution_count": null,
   "metadata": {
    "execution": {
     "iopub.execute_input": "2021-10-07T13:43:41.515976Z",
     "iopub.status.busy": "2021-10-07T13:43:41.515714Z",
     "iopub.status.idle": "2021-10-07T13:43:41.547739Z",
     "shell.execute_reply": "2021-10-07T13:43:41.546954Z",
     "shell.execute_reply.started": "2021-10-07T13:43:41.515946Z"
    }
   },
   "outputs": [],
   "source": [
    "cars.head() # .tail()"
   ]
  },
  {
   "cell_type": "code",
   "execution_count": null,
   "metadata": {
    "execution": {
     "iopub.execute_input": "2021-10-07T13:44:08.62753Z",
     "iopub.status.busy": "2021-10-07T13:44:08.627265Z",
     "iopub.status.idle": "2021-10-07T13:44:08.685352Z",
     "shell.execute_reply": "2021-10-07T13:44:08.684319Z",
     "shell.execute_reply.started": "2021-10-07T13:44:08.627504Z"
    },
    "scrolled": true
   },
   "outputs": [],
   "source": [
    "cars.describe()"
   ]
  },
  {
   "cell_type": "code",
   "execution_count": null,
   "metadata": {
    "execution": {
     "iopub.execute_input": "2021-10-07T13:45:42.003083Z",
     "iopub.status.busy": "2021-10-07T13:45:42.002806Z",
     "iopub.status.idle": "2021-10-07T13:45:42.020741Z",
     "shell.execute_reply": "2021-10-07T13:45:42.019987Z",
     "shell.execute_reply.started": "2021-10-07T13:45:42.003056Z"
    }
   },
   "outputs": [],
   "source": [
    "cars.info()"
   ]
  },
  {
   "cell_type": "markdown",
   "metadata": {},
   "source": [
    "### Przygotowanie danych\n",
    "\n",
    "Wstępne założenie - interesuje nas tylko wpływ koni mechanicznych i wagi samochodu. Pozbywamy się niepotrzebnych kolumn i sprawdzamy poprawność danych w tych, które nas interesują."
   ]
  },
  {
   "cell_type": "code",
   "execution_count": null,
   "metadata": {
    "execution": {
     "iopub.execute_input": "2021-10-07T13:47:41.539827Z",
     "iopub.status.busy": "2021-10-07T13:47:41.539241Z",
     "iopub.status.idle": "2021-10-07T13:47:41.545059Z",
     "shell.execute_reply": "2021-10-07T13:47:41.544231Z",
     "shell.execute_reply.started": "2021-10-07T13:47:41.539792Z"
    }
   },
   "outputs": [],
   "source": [
    "cars = cars[ ['horsepower', 'curbweight', 'carheight', 'price'] ]"
   ]
  },
  {
   "cell_type": "code",
   "execution_count": null,
   "metadata": {
    "execution": {
     "iopub.execute_input": "2021-10-07T13:47:55.455908Z",
     "iopub.status.busy": "2021-10-07T13:47:55.455645Z",
     "iopub.status.idle": "2021-10-07T13:47:55.466892Z",
     "shell.execute_reply": "2021-10-07T13:47:55.465948Z",
     "shell.execute_reply.started": "2021-10-07T13:47:55.455879Z"
    }
   },
   "outputs": [],
   "source": [
    "cars.info()"
   ]
  },
  {
   "cell_type": "markdown",
   "metadata": {},
   "source": [
    "### Sprawdzenie, czy wszystkie wartości są wartościami liczbowymi"
   ]
  },
  {
   "cell_type": "code",
   "execution_count": null,
   "metadata": {},
   "outputs": [],
   "source": [
    "# np.isnan(cars.values)\n",
    "np.isnan?"
   ]
  },
  {
   "cell_type": "code",
   "execution_count": null,
   "metadata": {
    "execution": {
     "iopub.execute_input": "2021-10-07T13:49:01.919068Z",
     "iopub.status.busy": "2021-10-07T13:49:01.918765Z",
     "iopub.status.idle": "2021-10-07T13:49:01.928362Z",
     "shell.execute_reply": "2021-10-07T13:49:01.927645Z",
     "shell.execute_reply.started": "2021-10-07T13:49:01.919039Z"
    },
    "scrolled": true
   },
   "outputs": [],
   "source": [
    "np.isnan(cars.values)"
   ]
  },
  {
   "cell_type": "code",
   "execution_count": null,
   "metadata": {
    "execution": {
     "iopub.execute_input": "2021-10-07T13:49:26.950681Z",
     "iopub.status.busy": "2021-10-07T13:49:26.950442Z",
     "iopub.status.idle": "2021-10-07T13:49:26.956635Z",
     "shell.execute_reply": "2021-10-07T13:49:26.955889Z",
     "shell.execute_reply.started": "2021-10-07T13:49:26.950658Z"
    }
   },
   "outputs": [],
   "source": [
    "np.isnan(cars.values).any()"
   ]
  },
  {
   "cell_type": "code",
   "execution_count": null,
   "metadata": {
    "execution": {
     "iopub.execute_input": "2021-10-07T13:50:14.479217Z",
     "iopub.status.busy": "2021-10-07T13:50:14.478958Z",
     "iopub.status.idle": "2021-10-07T13:50:14.496577Z",
     "shell.execute_reply": "2021-10-07T13:50:14.495843Z",
     "shell.execute_reply.started": "2021-10-07T13:50:14.479189Z"
    }
   },
   "outputs": [],
   "source": [
    "# w razie brakujacych wartosci\n",
    "cars.dropna() # dla wierszy\n",
    "cars.dropna(axis='columns') # dla kolumn"
   ]
  },
  {
   "cell_type": "markdown",
   "metadata": {},
   "source": [
    "### Wizualizacja danych\n",
    "\n",
    "Kilka wykresów, które na pierwszy rzut oka dadzą nam lepszą orientację w danych."
   ]
  },
  {
   "cell_type": "code",
   "execution_count": null,
   "metadata": {
    "execution": {
     "iopub.execute_input": "2021-10-07T13:52:24.966172Z",
     "iopub.status.busy": "2021-10-07T13:52:24.965793Z",
     "iopub.status.idle": "2021-10-07T13:52:25.170908Z",
     "shell.execute_reply": "2021-10-07T13:52:25.17026Z",
     "shell.execute_reply.started": "2021-10-07T13:52:24.96613Z"
    }
   },
   "outputs": [],
   "source": [
    "plt.figure(figsize=(6,5))\n",
    "\n",
    "plt.title('Dystrybucja cen')\n",
    "sns.distplot(cars.price) # cars['price']\n",
    "\n",
    "plt.show()"
   ]
  },
  {
   "cell_type": "code",
   "execution_count": null,
   "metadata": {
    "execution": {
     "iopub.execute_input": "2021-10-07T13:53:16.551735Z",
     "iopub.status.busy": "2021-10-07T13:53:16.551484Z",
     "iopub.status.idle": "2021-10-07T13:53:16.708889Z",
     "shell.execute_reply": "2021-10-07T13:53:16.708132Z",
     "shell.execute_reply.started": "2021-10-07T13:53:16.551709Z"
    }
   },
   "outputs": [],
   "source": [
    "plt.figure(figsize=(6,5))\n",
    "\n",
    "plt.title('Dystrybucja cen')\n",
    "plt.hist(cars.price, bins = 10)\n",
    "\n",
    "plt.show()"
   ]
  },
  {
   "cell_type": "code",
   "execution_count": null,
   "metadata": {
    "execution": {
     "iopub.execute_input": "2021-10-07T13:53:22.80445Z",
     "iopub.status.busy": "2021-10-07T13:53:22.804205Z",
     "iopub.status.idle": "2021-10-07T13:53:23.184232Z",
     "shell.execute_reply": "2021-10-07T13:53:23.18355Z",
     "shell.execute_reply.started": "2021-10-07T13:53:22.804425Z"
    }
   },
   "outputs": [],
   "source": [
    "plt.figure(figsize=(14,5))\n",
    "\n",
    "plt.subplot(1,2,1)\n",
    "plt.title('Dystrybucja wagi')\n",
    "sns.distplot(cars.curbweight)\n",
    "\n",
    "plt.subplot(1,2,2)\n",
    "plt.title('Dystrybucja KM')\n",
    "sns.distplot(cars.horsepower)\n",
    "\n",
    "plt.show()"
   ]
  },
  {
   "cell_type": "markdown",
   "metadata": {},
   "source": [
    "## Oszacowanie zależności między wybranymi zmiennymi niezależnymi (cechy samochodu) a zmienną zależną (ceną)"
   ]
  },
  {
   "cell_type": "code",
   "execution_count": null,
   "metadata": {
    "execution": {
     "iopub.execute_input": "2021-10-07T13:55:11.716528Z",
     "iopub.status.busy": "2021-10-07T13:55:11.715834Z",
     "iopub.status.idle": "2021-10-07T13:55:14.666089Z",
     "shell.execute_reply": "2021-10-07T13:55:14.66557Z",
     "shell.execute_reply.started": "2021-10-07T13:55:11.716481Z"
    }
   },
   "outputs": [],
   "source": [
    "sns.pairplot(cars)"
   ]
  },
  {
   "cell_type": "markdown",
   "metadata": {},
   "source": [
    "### Współczynnik korelacji między poszczególnymi atrybutami\n",
    "  \n",
    "[Artykuł](https://www.naukowiec.org/wiedza/statystyka/korelacja_745.html)"
   ]
  },
  {
   "cell_type": "code",
   "execution_count": null,
   "metadata": {
    "execution": {
     "iopub.execute_input": "2021-10-07T14:01:52.097258Z",
     "iopub.status.busy": "2021-10-07T14:01:52.096983Z",
     "iopub.status.idle": "2021-10-07T14:01:52.303775Z",
     "shell.execute_reply": "2021-10-07T14:01:52.303126Z",
     "shell.execute_reply.started": "2021-10-07T14:01:52.097229Z"
    }
   },
   "outputs": [],
   "source": [
    "sns.heatmap(cars.corr(), annot = True) \n",
    "\n",
    "plt.show()"
   ]
  },
  {
   "cell_type": "markdown",
   "metadata": {},
   "source": [
    "___\n",
    "\n",
    "# 2. Regresja liniowa"
   ]
  },
  {
   "cell_type": "markdown",
   "metadata": {},
   "source": [
    "## Ogólna idea\n",
    "  \n",
    "[Filmik](https://www.youtube.com/watch?v=PaFPbb66DxQ)  \n",
    "[Artykuł 1 Regresja liniowa](https://www.naukowiec.org/wiedza/statystyka/analiza-regresji--idea_734.html)  \n",
    "[Artykuł 2 Współczynniki regresji](https://www.naukowiec.org/wiedza/statystyka/wspolczynniki-regresji-liniowej_737.html)  \n",
    "[Artykuł 3 Założenia](https://www.naukowiec.org/wiedza/statystyka/zalozenia-analizy-regresji-liniowej_439.html)"
   ]
  },
  {
   "cell_type": "markdown",
   "metadata": {},
   "source": [
    "## 2.1 Podział danych na treningowe i testowe"
   ]
  },
  {
   "cell_type": "code",
   "execution_count": null,
   "metadata": {},
   "outputs": [],
   "source": [
    "X1 = cars[['horsepower']]\n",
    "Y = cars[['price']] "
   ]
  },
  {
   "cell_type": "code",
   "execution_count": null,
   "metadata": {},
   "outputs": [],
   "source": [
    "from sklearn.model_selection import train_test_split\n",
    "\n",
    "X1_tr, X1_test, y1_tr, y1_test = train_test_split(X1, Y, train_size = 0.8, test_size = 0.2)"
   ]
  },
  {
   "cell_type": "markdown",
   "metadata": {},
   "source": [
    "## 2.2 (Prosta) Regresja liniowa\n",
    "\n",
    "**Regresja liniowa** ogólnie - metoda oparta o liniową kombinację zmiennych niezależnych; \n",
    "\n",
    "**Prosta** regresja liniowa - regresja, w której używamy tylko jednej zmiennej niezależnej"
   ]
  },
  {
   "cell_type": "code",
   "execution_count": null,
   "metadata": {},
   "outputs": [],
   "source": [
    "from sklearn.linear_model import LinearRegression\n",
    "\n",
    "regression1 = LinearRegression()\n",
    "regression1.fit(X1_tr, y1_tr)\n",
    "price_prediction_horsepower = regression1.predict(X1_test)"
   ]
  },
  {
   "cell_type": "code",
   "execution_count": null,
   "metadata": {},
   "outputs": [],
   "source": [
    "plt.figure(figsize=(10, 8))\n",
    "\n",
    "plt.plot(X1_test, price_prediction_horsepower, color='green', label='Funkcja f(X)')\n",
    "plt.scatter(X1_test, price_prediction_horsepower, color='red', label='Predykcja')\n",
    "plt.scatter(X1_test, y1_test, label='Wartosc faktyczna')\n",
    "\n",
    "plt.legend()\n",
    "\n",
    "plt.show()"
   ]
  },
  {
   "cell_type": "markdown",
   "metadata": {},
   "source": [
    "### Błąd średniokwadratowy"
   ]
  },
  {
   "cell_type": "code",
   "execution_count": null,
   "metadata": {},
   "outputs": [],
   "source": [
    "print(y1_test.shape)\n",
    "print(price_prediction_horsepower.shape)"
   ]
  },
  {
   "cell_type": "code",
   "execution_count": null,
   "metadata": {},
   "outputs": [],
   "source": [
    "error = (price_prediction_horsepower - y1_test)\n",
    "error = error.values\n",
    "error"
   ]
  },
  {
   "cell_type": "code",
   "execution_count": null,
   "metadata": {},
   "outputs": [],
   "source": [
    "np.sum(np.square(error)) / len(y1_test)"
   ]
  },
  {
   "cell_type": "code",
   "execution_count": null,
   "metadata": {},
   "outputs": [],
   "source": [
    "from sklearn.metrics import mean_squared_error, r2_score"
   ]
  },
  {
   "cell_type": "code",
   "execution_count": null,
   "metadata": {},
   "outputs": [],
   "source": [
    "mean_squared_error(price_prediction_horsepower, y1_test)"
   ]
  },
  {
   "cell_type": "code",
   "execution_count": null,
   "metadata": {},
   "outputs": [],
   "source": [
    "r2_score(price_prediction_horsepower, y1_test)"
   ]
  },
  {
   "cell_type": "markdown",
   "metadata": {},
   "source": [
    "# 3. Analiza wplywu innego predyktora na cenę\n",
    "\n",
    "Powtórzenie regresji liniowej zgodnie z punktami 2.1 i 2.2, ale z użyciem innej cechy"
   ]
  },
  {
   "cell_type": "code",
   "execution_count": null,
   "metadata": {},
   "outputs": [],
   "source": []
  },
  {
   "cell_type": "code",
   "execution_count": null,
   "metadata": {},
   "outputs": [],
   "source": [
    "def plot_prediction(X_test, y_test, price_prediction):\n",
    "    plt.figure(figsize=(10, 8))\n",
    "    plt.plot(X_test, price_prediction, color='green', label='Funkcja f(X)')\n",
    "    plt.scatter(X_test, price_prediction, color='red', marker='D', label='Predykcja')\n",
    "    plt.scatter(X_test, y_test, label='Wartosc faktyczna')\n",
    "    plt.legend()\n",
    "    plt.show()"
   ]
  },
  {
   "cell_type": "code",
   "execution_count": null,
   "metadata": {},
   "outputs": [],
   "source": [
    "plot_prediction(X_test, y_test, price_prediction)"
   ]
  },
  {
   "cell_type": "code",
   "execution_count": null,
   "metadata": {},
   "outputs": [],
   "source": [
    "mean_squared_error(price_prediction, y_test)"
   ]
  },
  {
   "cell_type": "markdown",
   "metadata": {},
   "source": [
    "# Współczynnik determinacji ($R^2$)\n",
    "\n",
    "W uproszczeniu: miara jakości modelu, który zbudowaliśmy\n",
    "\n",
    "https://pogotowiestatystyczne.pl/slowniczek/wspolczynnik-r-kwadrat/\n",
    "\n",
    "https://www.naukowiec.org/wiedza/statystyka/wspolczynnik-determinacji_736.html\n",
    "\n",
    "Miara oparta na wspolczynniku korelacji R, określa dokładnie jaka część wariancji (zmienności) wartosci wyjściowej jest wyjaśniona przez dany predyktor.\n",
    "\n",
    "Czemu kwadrat? Latwiejszy w interpretacji: nie wiemy czy $R=0.7$ jest 1.4 razy lepszy od $R=0.5$, ale już $R^2$ jest rzeczywiście dokładnie 1.4 razy lepsze od $R^2 = 0.5$."
   ]
  },
  {
   "cell_type": "markdown",
   "metadata": {},
   "source": [
    "Jak liczymy $R^2$:\n",
    "- Liczymy wariancje zmiennej zależnej (y) wokół średniej: podnosimy do kwadratu różnice między wartościami y a średnią arytmetyczną tych wartości i je sumujemy (Wariancja sredniej)\n",
    "- liczymy wariancję wokol modelu (funkcji liniowej znalezionej za pomoca regresji) (Wariancja modelu)\n",
    "\n",
    "$ R^2 = \\frac{(WariancjaSredniej - WariancjaModelu)}{WariancjaSredniej} $\n",
    "\n",
    "Jeżeli wariancja modelu jest niska (mały rozrzut wartości y wokół wyznaczonej funkcji), to wartość $R^2$ będzie bliska 1."
   ]
  },
  {
   "cell_type": "code",
   "execution_count": null,
   "metadata": {},
   "outputs": [],
   "source": [
    "r2_score(price_prediction, y_test)"
   ]
  }
 ],
 "metadata": {
  "kernelspec": {
   "display_name": "Python 3",
   "language": "python",
   "name": "python3"
  },
  "language_info": {
   "codemirror_mode": {
    "name": "ipython",
    "version": 3
   },
   "file_extension": ".py",
   "mimetype": "text/x-python",
   "name": "python",
   "nbconvert_exporter": "python",
   "pygments_lexer": "ipython3",
   "version": "3.8.3"
  }
 },
 "nbformat": 4,
 "nbformat_minor": 4
}
